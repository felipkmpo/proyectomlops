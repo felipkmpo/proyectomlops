{
  "nbformat": 4,
  "nbformat_minor": 0,
  "metadata": {
    "colab": {
      "provenance": [],
      "gpuType": "T4"
    },
    "kernelspec": {
      "name": "python3",
      "display_name": "Python 3"
    },
    "language_info": {
      "name": "python"
    },
    "accelerator": "GPU"
  },
  "cells": [
    {
      "cell_type": "markdown",
      "source": [
        "#PRACTICA MLOps"
      ],
      "metadata": {
        "id": "XNm-A9sYBJOs"
      }
    },
    {
      "cell_type": "markdown",
      "source": [
        "###Instalación de Librerias"
      ],
      "metadata": {
        "id": "T36qdE7HRbtT"
      }
    },
    {
      "cell_type": "code",
      "execution_count": null,
      "metadata": {
        "id": "VArliG9SRkve"
      },
      "outputs": [],
      "source": [
        "%%capture\n",
        "#instalamos libreria tensoflow\n",
        "!pip install notebook tensorflow\n"
      ]
    },
    {
      "cell_type": "code",
      "source": [
        "#instalamos libreria wandb\n",
        "%%capture\n",
        "!pip install wandb"
      ],
      "metadata": {
        "id": "MMLJPYeJRl6H"
      },
      "execution_count": null,
      "outputs": []
    },
    {
      "cell_type": "code",
      "source": [
        "%%capture\n",
        "#instalamos libreria mlflow\n",
        "!pip install mlflow pyngrok"
      ],
      "metadata": {
        "id": "oTUSo6uzRmAG"
      },
      "execution_count": null,
      "outputs": []
    },
    {
      "cell_type": "code",
      "source": [
        "#Nos logueamos con nuestra cuenta para poder registrar metricas\n",
        "! wandb login"
      ],
      "metadata": {
        "colab": {
          "base_uri": "https://localhost:8080/"
        },
        "id": "D9JyLocQRl9D",
        "outputId": "72cb960c-b472-479c-9e7c-cd53c500a382"
      },
      "execution_count": null,
      "outputs": [
        {
          "output_type": "stream",
          "name": "stdout",
          "text": [
            "\u001b[34m\u001b[1mwandb\u001b[0m: Logging into wandb.ai. (Learn how to deploy a W&B server locally: https://wandb.me/wandb-server)\n",
            "\u001b[34m\u001b[1mwandb\u001b[0m: You can find your API key in your browser here: https://wandb.ai/authorize\n",
            "\u001b[34m\u001b[1mwandb\u001b[0m: Paste an API key from your profile and hit enter, or press ctrl+c to quit: \n",
            "\u001b[34m\u001b[1mwandb\u001b[0m: Appending key for api.wandb.ai to your netrc file: /root/.netrc\n"
          ]
        }
      ]
    },
    {
      "cell_type": "markdown",
      "source": [
        "### Importación librerias"
      ],
      "metadata": {
        "id": "rRFgE4NmBydI"
      }
    },
    {
      "cell_type": "code",
      "source": [
        "#importacion de liberias necesarias para entrenamiento e implementacion de nuestro modelo\n",
        "import tensorflow as tf\n",
        "from tensorflow.keras.datasets import mnist\n",
        "from tensorflow.keras.models import Sequential\n",
        "from tensorflow.keras.layers import Dense, Flatten\n",
        "from tensorflow.keras.utils import to_categorical\n",
        "from tensorflow.keras.layers import Dropout\n",
        "import matplotlib.pyplot as plt\n",
        "from sklearn.metrics import confusion_matrix, classification_report\n",
        "import seaborn as sns\n",
        "import numpy as np\n",
        "import mlflow\n",
        "import mlflow.tensorflow\n",
        "import wandb\n",
        "from wandb.integration.keras import WandbMetricsLogger\n",
        "import kagglehub\n",
        "import cv2\n",
        "from sklearn.model_selection import train_test_split\n",
        "from tensorflow import keras\n",
        "from tensorflow.keras import layers\n",
        "from tensorflow.keras.layers import Flatten, Dense, Reshape, Conv2D, MaxPooling2D\n",
        "import os\n",
        "import tempfile\n"
      ],
      "metadata": {
        "id": "T-GtfwDWRmCj"
      },
      "execution_count": null,
      "outputs": []
    },
    {
      "cell_type": "markdown",
      "source": [
        "### CARGA CONJUNTO DATOS"
      ],
      "metadata": {
        "id": "qYP948nlBygy"
      }
    },
    {
      "cell_type": "code",
      "source": [
        "#montamos volumen de google drive donde almacenaremos el conjunto de datos seleccionado\n",
        "from google.colab import drive\n",
        "drive.mount('/content/drive')\n"
      ],
      "metadata": {
        "id": "U2I9oY2qR7bh",
        "colab": {
          "base_uri": "https://localhost:8080/"
        },
        "outputId": "445e9c94-ca31-4816-cc33-e098dd14c412"
      },
      "execution_count": null,
      "outputs": [
        {
          "output_type": "stream",
          "name": "stdout",
          "text": [
            "Mounted at /content/drive\n"
          ]
        }
      ]
    },
    {
      "cell_type": "code",
      "source": [
        "%%capture\n",
        "#Descomprimimos la ruta donde tendremos el archivo .zip de todas las imagenes del conjunTo de datos seleccionado\n",
        "#el conjunto de datos estará disponible en github https://github.com/felipkmpo/proyectomlops, recuerde validar su ruta\n",
        "!unzip \"/content/drive/MyDrive/datasetcancerskin1.zip\""
      ],
      "metadata": {
        "id": "n0flYsRYR7iy"
      },
      "execution_count": null,
      "outputs": []
    },
    {
      "cell_type": "markdown",
      "source": [
        "**Recuerda descargar el dataset y subirlo a tu entorno colab, revisa bien la ruta para que las etiquetas identifiquen bien las clases**"
      ],
      "metadata": {
        "id": "l-XsgxJnUnOi"
      }
    },
    {
      "cell_type": "code",
      "source": [
        "#Con os.listdir crearemos una lista de las rutas de una carpeta, esta sera el nombre de las clases a predecir, seran 2 clases\n",
        "etiquetas_labels = os.listdir(\"/content/datasetcancerskin\")\n",
        "print(etiquetas_labels)"
      ],
      "metadata": {
        "colab": {
          "base_uri": "https://localhost:8080/"
        },
        "id": "T7PBi9LeZj-t",
        "outputId": "b6dbe370-b480-471a-cfa8-f9fc75f54a12"
      },
      "execution_count": null,
      "outputs": [
        {
          "output_type": "stream",
          "name": "stdout",
          "text": [
            "['malignant', 'benign']\n"
          ]
        }
      ]
    },
    {
      "cell_type": "code",
      "source": [
        "#Etiquetas labels tiene los nombres de las etiquetas, entonces debemos recorrer cada uno de los archivos dentro de esas etiquetas\n",
        "names_cero = os.listdir(\"/content/datasetcancerskin/\"+ etiquetas_labels[0])\n",
        "print(f\"Tamaño de {etiquetas_labels[0]}: {len(names_cero)}\")\n",
        "names_uno = os.listdir(\"/content/datasetcancerskin/\"+ etiquetas_labels[1])\n",
        "print(f\"Tamaño de {etiquetas_labels[1]}: {len(names_uno)}\")\n"
      ],
      "metadata": {
        "colab": {
          "base_uri": "https://localhost:8080/"
        },
        "id": "S_Q5AWnpbBtL",
        "outputId": "48424056-0576-4a70-c96f-22fc6418137b"
      },
      "execution_count": null,
      "outputs": [
        {
          "output_type": "stream",
          "name": "stdout",
          "text": [
            "Tamaño de malignant: 1497\n",
            "Tamaño de benign: 1800\n"
          ]
        }
      ]
    },
    {
      "cell_type": "markdown",
      "source": [
        "### TRANSFORMACION DATOS PARA CARGUE EN MODELO PREDICTIVOS"
      ],
      "metadata": {
        "id": "EEUAGbRgB8kw"
      }
    },
    {
      "cell_type": "code",
      "source": [
        "#Construimos arreglos \"X\" y \"Y\", X es la lista de imagenes y y las etiquetas\n",
        "carpeta = \"/content/datasetcancerskin/\"\n",
        "\n",
        "X = []\n",
        "y = []\n",
        "\n",
        "etiquetas_labels = os.listdir(carpeta)\n",
        "#Recorremos los elementos de las etiquetas en orden\n",
        "for etiqueta in etiquetas_labels:\n",
        "  #Para cada etiqueta  obtenemos la lista de nombres\n",
        "  ruta_imagenes = os.listdir(carpeta + etiqueta)\n",
        "  #Para cada ruta de imagenes leemos la imagén con cv2, la pasamos a RGB y la\n",
        "  #añadimos a las listas iniciales\n",
        "  for img in ruta_imagenes:\n",
        "    imagen = cv2.imread(carpeta + etiqueta + \"/\" + img)\n",
        "    imagen = cv2.cvtColor(imagen, cv2.COLOR_BGR2RGB) #Puede convertirla a gris\n",
        "\n",
        "    #Les hacemos un resize para asegurarnos que todas las imagenes tengan el mismo tamaño de entrada\n",
        "    imagen = cv2.resize(imagen, (100, 100))\n",
        "    X.append(imagen)\n",
        "    #Si la etiqueta es la de la primer clase añado un 0, de la clase 2 añado un 1 y de la tercera clase un 2\n",
        "    if etiqueta == etiquetas_labels[0]:\n",
        "      y.append(0)\n",
        "    elif  etiqueta == etiquetas_labels[1]:\n",
        "      y.append(1)\n",
        "    elif etiqueta == etiquetas_labels[2]:\n",
        "      y.append(2)"
      ],
      "metadata": {
        "id": "3RKdSph_b2ej"
      },
      "execution_count": null,
      "outputs": []
    },
    {
      "cell_type": "code",
      "source": [
        "# Se trabaja como arreglos de numpy\n",
        "X = np.array(X)\n",
        "y = np.array(y)"
      ],
      "metadata": {
        "id": "VehdKnCbcdz6"
      },
      "execution_count": null,
      "outputs": []
    },
    {
      "cell_type": "code",
      "source": [
        "#Imprimimos los tamaños de los arreglos\n",
        "print(X.shape)\n",
        "print(y.shape)"
      ],
      "metadata": {
        "colab": {
          "base_uri": "https://localhost:8080/"
        },
        "id": "l76lsYuucfV8",
        "outputId": "470bf49d-5fad-4abb-de74-de36a9241add"
      },
      "execution_count": null,
      "outputs": [
        {
          "output_type": "stream",
          "name": "stdout",
          "text": [
            "(3297, 100, 100, 3)\n",
            "(3297,)\n"
          ]
        }
      ]
    },
    {
      "cell_type": "markdown",
      "source": [
        "### División Dataset para pruebas y entrenamiento"
      ],
      "metadata": {
        "id": "gSOVfy54I4PV"
      }
    },
    {
      "cell_type": "code",
      "source": [
        "#el test_size dice que el 30% de los datos sean de testeo, random_state asegura que cada que\n",
        "#ejecute el código va a coger las mismas porciones de datos y stratify le asegura que mezcle los\n",
        "#datos y en todos los arreglos aparezcan de las dos clases\n",
        "X_train, X_test, y_train, y_test = train_test_split(X, y, test_size=0.3, random_state=42, stratify=y)"
      ],
      "metadata": {
        "id": "tWBv6JpzczMC"
      },
      "execution_count": null,
      "outputs": []
    },
    {
      "cell_type": "code",
      "source": [
        "#Tomamos 10% de la data test para validacion\n",
        "X_test, X_val, y_test, y_val = train_test_split(X_test, y_test, test_size=0.1, random_state=42, stratify=y_test)"
      ],
      "metadata": {
        "id": "NduYSbB0c9dg"
      },
      "execution_count": null,
      "outputs": []
    },
    {
      "cell_type": "code",
      "source": [
        "#tamaños de los arreglos despues de la division\n",
        "print(f'arreglo x entrenamiento: ',X_train.shape)\n",
        "print(f'arreglo x prueba: ',X_test.shape)\n",
        "print(f'arreglo x validacion: ',X_val.shape)\n",
        "print(f'arreglo y entrenamiento: ',y_train.shape)\n",
        "print(f'arreglo y prueba: ',y_test.shape)\n",
        "print(f'arreglo y validacion: ',y_val.shape)"
      ],
      "metadata": {
        "colab": {
          "base_uri": "https://localhost:8080/"
        },
        "id": "l6bkwGhDdByI",
        "outputId": "5dea4bd5-5a4c-4bf1-dfbf-fc2bdc367a49"
      },
      "execution_count": null,
      "outputs": [
        {
          "output_type": "stream",
          "name": "stdout",
          "text": [
            "arreglo x entrenamiento:  (2307, 100, 100, 3)\n",
            "arreglo x prueba:  (891, 100, 100, 3)\n",
            "arreglo x validacion:  (99, 100, 100, 3)\n",
            "arreglo y entrenamiento:  (2307,)\n",
            "arreglo y prueba:  (891,)\n",
            "arreglo y validacion:  (99,)\n"
          ]
        }
      ]
    },
    {
      "cell_type": "code",
      "source": [
        "# Descripcion de datos por cada clase:\n",
        "print(np.unique(y_train, return_counts=True))\n",
        "print(np.unique(y_test, return_counts=True))\n",
        "print(np.unique(y_val, return_counts=True))"
      ],
      "metadata": {
        "colab": {
          "base_uri": "https://localhost:8080/"
        },
        "id": "0c1WpTHOddsJ",
        "outputId": "a16c2d6a-f542-487f-d7bf-f5fe42c3623d"
      },
      "execution_count": null,
      "outputs": [
        {
          "output_type": "stream",
          "name": "stdout",
          "text": [
            "(array([0, 1]), array([1047, 1260]))\n",
            "(array([0, 1]), array([405, 486]))\n",
            "(array([0, 1]), array([45, 54]))\n"
          ]
        }
      ]
    },
    {
      "cell_type": "markdown",
      "source": [
        "### Configuración para rastrear experimentos de TensorFlow con MLflow"
      ],
      "metadata": {
        "id": "B2zw7ipHSS1X"
      }
    },
    {
      "cell_type": "code",
      "source": [
        "mlflow.tensorflow.autolog()  # Activa el autolog de MLflow para registrar métricas, parámetros y el modelo automáticamente"
      ],
      "metadata": {
        "id": "tonaldsuSSnX"
      },
      "execution_count": null,
      "outputs": []
    },
    {
      "cell_type": "markdown",
      "source": [
        "### NORMALIZAMOS DATOS"
      ],
      "metadata": {
        "id": "6srQ7MGreFAR"
      }
    },
    {
      "cell_type": "code",
      "source": [
        "# Reformatear las imágenes para incluir el canal de color\n",
        "X_train = X_train.reshape(X_train.shape[0], X_train.shape[1], X_train.shape[2], 3)\n",
        "X_test = X_test.reshape(X_test.shape[0], X_test.shape[1], X_test.shape[2], 3)\n",
        "X_val = X_val.reshape(X_val.shape[0], X_val.shape[1], X_val.shape[2], 3)\n",
        "\n",
        "# Normalizar los datos\n",
        "X_train = X_train / 255.0\n",
        "X_test = X_test / 255.0\n",
        "X_val = X_val / 255.0\n",
        "\n",
        "# Verificar las formas de los datos\n",
        "print(\"Shape of x_train:\", X_train.shape)\n",
        "print(\"Shape of x_test:\", X_test.shape)\n",
        "print(\"Shape of x_val:\", X_val.shape)"
      ],
      "metadata": {
        "id": "WCG9oO4ddmug",
        "colab": {
          "base_uri": "https://localhost:8080/"
        },
        "outputId": "16150a21-cc3b-4371-ecea-c38cc5ead6f5"
      },
      "execution_count": null,
      "outputs": [
        {
          "output_type": "stream",
          "name": "stdout",
          "text": [
            "Shape of x_train: (2307, 100, 100, 3)\n",
            "Shape of x_test: (891, 100, 100, 3)\n",
            "Shape of x_val: (99, 100, 100, 3)\n"
          ]
        }
      ]
    },
    {
      "cell_type": "markdown",
      "source": [
        "### Definición y compilación Modelo CNN"
      ],
      "metadata": {
        "id": "SubAO9lRKAV-"
      }
    },
    {
      "cell_type": "markdown",
      "source": [
        "**EXPERIMENTO** 1"
      ],
      "metadata": {
        "id": "ErPF_f6Xj9tX"
      }
    },
    {
      "cell_type": "code",
      "source": [
        "#codigo para utilizar wandb\n",
        "#dentro de config definiremos datos basicos del proyecto icnluyendo numero de epocas para el entrenamietno del modelo\n",
        "config={\n",
        "\"architecture\": \"CNN\",\n",
        "\"dataset\": \"imagenes cancer de piel\",\n",
        "\"epochs\": 10,\n",
        "}\n",
        "\n",
        "wandb.init(\n",
        "      # en el .init estableceremos nombre del proyecto, nombre del experimiento lo que nos servira para luego identificar los experimentos\n",
        "      project=\"Proyecto Cancer de Piel\",\n",
        "      name=f\"experiment_1\",\n",
        "      config=config\n",
        ")\n",
        "\n",
        "#el proceso de registro de dataset solo lo realizaremos una unica vez\n",
        "# creamos nuevo artefacto para registro dataset en wandb\n",
        "dataset_artifact = wandb.Artifact(\"my_dataset\", type=\"dataset\")\n",
        "#guardamos data a arrays\n",
        "np.save(\"X_train.npy\", X_train)\n",
        "np.save(\"y_train.npy\", y_train)\n",
        "np.save(\"X_test.npy\", X_test)\n",
        "np.save(\"y_test.npy\", y_test)\n",
        "#agregamos arrays recien creados a artefacto tipo dataset\n",
        "dataset_artifact.add_file(\"X_train.npy\")\n",
        "dataset_artifact.add_file(\"y_train.npy\")\n",
        "dataset_artifact.add_file(\"X_test.npy\")\n",
        "dataset_artifact.add_file(\"y_test.npy\")\n",
        "#registramos artefacto en wandb\n",
        "wandb.log_artifact(dataset_artifact)\n",
        "\n",
        "#definicion de modelo CNN\n",
        "model = Sequential([\n",
        "    Conv2D(32, (3, 3), activation='relu', input_shape=(100, 100, 3)),\n",
        "    MaxPooling2D((2, 2)),\n",
        "    Flatten(),\n",
        "    Dense(64, activation='relu'),\n",
        "    Dense(1, activation='sigmoid')  # Para clasificación binaria\n",
        "])\n",
        "\n",
        "# Compilar el modelo con función de pérdida y optimizador\n",
        "model.compile(optimizer='adam',\n",
        "              loss='binary_crossentropy',\n",
        "              metrics=['accuracy'])"
      ],
      "metadata": {
        "colab": {
          "base_uri": "https://localhost:8080/",
          "height": 263
        },
        "id": "xIZM9rz8j8VO",
        "outputId": "c67c2676-29e8-4e2d-a07d-45c99c384b5d"
      },
      "execution_count": null,
      "outputs": [
        {
          "output_type": "stream",
          "name": "stderr",
          "text": [
            "\u001b[34m\u001b[1mwandb\u001b[0m: Using wandb-core as the SDK backend. Please refer to https://wandb.me/wandb-core for more information.\n"
          ]
        },
        {
          "output_type": "display_data",
          "data": {
            "text/plain": [
              "<IPython.core.display.Javascript object>"
            ],
            "application/javascript": [
              "\n",
              "        window._wandbApiKey = new Promise((resolve, reject) => {\n",
              "            function loadScript(url) {\n",
              "            return new Promise(function(resolve, reject) {\n",
              "                let newScript = document.createElement(\"script\");\n",
              "                newScript.onerror = reject;\n",
              "                newScript.onload = resolve;\n",
              "                document.body.appendChild(newScript);\n",
              "                newScript.src = url;\n",
              "            });\n",
              "            }\n",
              "            loadScript(\"https://cdn.jsdelivr.net/npm/postmate/build/postmate.min.js\").then(() => {\n",
              "            const iframe = document.createElement('iframe')\n",
              "            iframe.style.cssText = \"width:0;height:0;border:none\"\n",
              "            document.body.appendChild(iframe)\n",
              "            const handshake = new Postmate({\n",
              "                container: iframe,\n",
              "                url: 'https://wandb.ai/authorize'\n",
              "            });\n",
              "            const timeout = setTimeout(() => reject(\"Couldn't auto authenticate\"), 5000)\n",
              "            handshake.then(function(child) {\n",
              "                child.on('authorize', data => {\n",
              "                    clearTimeout(timeout)\n",
              "                    resolve(data)\n",
              "                });\n",
              "            });\n",
              "            })\n",
              "        });\n",
              "    "
            ]
          },
          "metadata": {}
        },
        {
          "output_type": "stream",
          "name": "stderr",
          "text": [
            "\u001b[34m\u001b[1mwandb\u001b[0m: Logging into wandb.ai. (Learn how to deploy a W&B server locally: https://wandb.me/wandb-server)\n",
            "\u001b[34m\u001b[1mwandb\u001b[0m: You can find your API key in your browser here: https://wandb.ai/authorize\n",
            "wandb: Paste an API key from your profile and hit enter, or press ctrl+c to quit:"
          ]
        },
        {
          "name": "stdout",
          "output_type": "stream",
          "text": [
            " ··········\n"
          ]
        },
        {
          "output_type": "stream",
          "name": "stderr",
          "text": [
            "\u001b[34m\u001b[1mwandb\u001b[0m: Appending key for api.wandb.ai to your netrc file: /root/.netrc\n"
          ]
        },
        {
          "output_type": "display_data",
          "data": {
            "text/plain": [
              "<IPython.core.display.HTML object>"
            ],
            "text/html": [
              "Tracking run with wandb version 0.18.5"
            ]
          },
          "metadata": {}
        },
        {
          "output_type": "display_data",
          "data": {
            "text/plain": [
              "<IPython.core.display.HTML object>"
            ],
            "text/html": [
              "Run data is saved locally in <code>/content/wandb/run-20241109_164649-2bf6ifdy</code>"
            ]
          },
          "metadata": {}
        },
        {
          "output_type": "display_data",
          "data": {
            "text/plain": [
              "<IPython.core.display.HTML object>"
            ],
            "text/html": [
              "Syncing run <strong><a href='https://wandb.ai/elvin-torres-universidad-aut-noma-de-occidente/Proyecto%20Cancer%20de%20Piel/runs/2bf6ifdy' target=\"_blank\">experiment_1</a></strong> to <a href='https://wandb.ai/elvin-torres-universidad-aut-noma-de-occidente/Proyecto%20Cancer%20de%20Piel' target=\"_blank\">Weights & Biases</a> (<a href='https://wandb.me/run' target=\"_blank\">docs</a>)<br/>"
            ]
          },
          "metadata": {}
        },
        {
          "output_type": "display_data",
          "data": {
            "text/plain": [
              "<IPython.core.display.HTML object>"
            ],
            "text/html": [
              " View project at <a href='https://wandb.ai/elvin-torres-universidad-aut-noma-de-occidente/Proyecto%20Cancer%20de%20Piel' target=\"_blank\">https://wandb.ai/elvin-torres-universidad-aut-noma-de-occidente/Proyecto%20Cancer%20de%20Piel</a>"
            ]
          },
          "metadata": {}
        },
        {
          "output_type": "display_data",
          "data": {
            "text/plain": [
              "<IPython.core.display.HTML object>"
            ],
            "text/html": [
              " View run at <a href='https://wandb.ai/elvin-torres-universidad-aut-noma-de-occidente/Proyecto%20Cancer%20de%20Piel/runs/2bf6ifdy' target=\"_blank\">https://wandb.ai/elvin-torres-universidad-aut-noma-de-occidente/Proyecto%20Cancer%20de%20Piel/runs/2bf6ifdy</a>"
            ]
          },
          "metadata": {}
        },
        {
          "output_type": "stream",
          "name": "stderr",
          "text": [
            "/usr/local/lib/python3.10/dist-packages/keras/src/layers/convolutional/base_conv.py:107: UserWarning: Do not pass an `input_shape`/`input_dim` argument to a layer. When using Sequential models, prefer using an `Input(shape)` object as the first layer in the model instead.\n",
            "  super().__init__(activity_regularizer=activity_regularizer, **kwargs)\n"
          ]
        }
      ]
    },
    {
      "cell_type": "markdown",
      "source": [
        "**### IMPORTANTE, recuerda ejecutar un experimento a la vez y posteriormente el entrenamiento**"
      ],
      "metadata": {
        "id": "bOMgQvM5Hdth"
      }
    },
    {
      "cell_type": "markdown",
      "source": [
        "**EXPERIMENTO 2**"
      ],
      "metadata": {
        "id": "LWEQJTJFkMK2"
      }
    },
    {
      "cell_type": "code",
      "source": [
        "#codigo para utilizar wandb\n",
        "#dentro de config definiremos datos basicos del proyecto icnluyendo numero de epocas para el entrenamietno del modelo\n",
        "config={\n",
        "\"architecture\": \"CNN\",\n",
        "\"dataset\": \"imagenes cancer de piel\",\n",
        "\"epochs\": 15,\n",
        "}\n",
        "\n",
        "wandb.init(\n",
        "      # en el .init estableceremos nombre del proyecto, nombre del experimiento lo que nos servira para luego identificar los experimentos\n",
        "      project=\"Proyecto Cancer de Piel\",\n",
        "      name=f\"experiment_02\",\n",
        "      config=config\n",
        ")\n",
        "\n",
        "#definicion de modelo CNN\n",
        "model = Sequential([\n",
        "    Conv2D(32, (3, 3), activation='relu', input_shape=(100, 100, 3)),\n",
        "    MaxPooling2D((2, 2)),\n",
        "    Flatten(),\n",
        "    Dense(64, activation='relu'),\n",
        "    Dropout(0.5),\n",
        "    Dense(1, activation='sigmoid')  # Para clasificación binaria\n",
        "])\n",
        "\n",
        "# Compilar el modelo con función de pérdida y optimizador\n",
        "model.compile(optimizer='adam',\n",
        "              loss='binary_crossentropy',\n",
        "              metrics=['accuracy'])\n",
        "\n"
      ],
      "metadata": {
        "colab": {
          "base_uri": "https://localhost:8080/",
          "height": 434
        },
        "id": "W05l1omVeZPP",
        "outputId": "c7801edf-76d0-44cd-cee5-f3ad40a903c4"
      },
      "execution_count": null,
      "outputs": [
        {
          "output_type": "display_data",
          "data": {
            "text/plain": [
              "<IPython.core.display.HTML object>"
            ],
            "text/html": [
              "Finishing last run (ID:5fcpivr4) before initializing another..."
            ]
          },
          "metadata": {}
        },
        {
          "output_type": "display_data",
          "data": {
            "text/plain": [
              "<IPython.core.display.HTML object>"
            ],
            "text/html": [
              "<style>\n",
              "    table.wandb td:nth-child(1) { padding: 0 10px; text-align: left ; width: auto;} td:nth-child(2) {text-align: left ; width: 100%}\n",
              "    .wandb-row { display: flex; flex-direction: row; flex-wrap: wrap; justify-content: flex-start; width: 100% }\n",
              "    .wandb-col { display: flex; flex-direction: column; flex-basis: 100%; flex: 1; padding: 10px; }\n",
              "    </style>\n",
              "<div class=\"wandb-row\"><div class=\"wandb-col\"><h3>Run history:</h3><br/><table class=\"wandb\"><tr><td>epoch/accuracy</td><td>▁▆▆▇▇▇█▇▇█</td></tr><tr><td>epoch/epoch</td><td>▁▂▃▃▄▅▆▆▇█</td></tr><tr><td>epoch/learning_rate</td><td>▁▁▁▁▁▁▁▁▁▁</td></tr><tr><td>epoch/loss</td><td>█▃▂▂▂▁▁▁▁▁</td></tr><tr><td>epoch/val_accuracy</td><td>▆▁▇█▇█▇▇▇█</td></tr><tr><td>epoch/val_loss</td><td>▇█▃▂▂▁▂▂▃▁</td></tr></table><br/></div><div class=\"wandb-col\"><h3>Run summary:</h3><br/><table class=\"wandb\"><tr><td>epoch/accuracy</td><td>0.81409</td></tr><tr><td>epoch/epoch</td><td>9</td></tr><tr><td>epoch/learning_rate</td><td>0.001</td></tr><tr><td>epoch/loss</td><td>0.3791</td></tr><tr><td>epoch/val_accuracy</td><td>0.81602</td></tr><tr><td>epoch/val_loss</td><td>0.37956</td></tr></table><br/></div></div>"
            ]
          },
          "metadata": {}
        },
        {
          "output_type": "display_data",
          "data": {
            "text/plain": [
              "<IPython.core.display.HTML object>"
            ],
            "text/html": [
              " View run <strong style=\"color:#cdcd00\">experiment_01</strong> at: <a href='https://wandb.ai/elvin-torres-universidad-aut-noma-de-occidente/Proyecto%20Cancer%20de%20Piel/runs/5fcpivr4' target=\"_blank\">https://wandb.ai/elvin-torres-universidad-aut-noma-de-occidente/Proyecto%20Cancer%20de%20Piel/runs/5fcpivr4</a><br/> View project at: <a href='https://wandb.ai/elvin-torres-universidad-aut-noma-de-occidente/Proyecto%20Cancer%20de%20Piel' target=\"_blank\">https://wandb.ai/elvin-torres-universidad-aut-noma-de-occidente/Proyecto%20Cancer%20de%20Piel</a><br/>Synced 5 W&B file(s), 0 media file(s), 2 artifact file(s) and 0 other file(s)"
            ]
          },
          "metadata": {}
        },
        {
          "output_type": "display_data",
          "data": {
            "text/plain": [
              "<IPython.core.display.HTML object>"
            ],
            "text/html": [
              "Find logs at: <code>./wandb/run-20241106_053936-5fcpivr4/logs</code>"
            ]
          },
          "metadata": {}
        },
        {
          "output_type": "display_data",
          "data": {
            "text/plain": [
              "<IPython.core.display.HTML object>"
            ],
            "text/html": [
              "Successfully finished last run (ID:5fcpivr4). Initializing new run:<br/>"
            ]
          },
          "metadata": {}
        },
        {
          "output_type": "display_data",
          "data": {
            "text/plain": [
              "<IPython.core.display.HTML object>"
            ],
            "text/html": [
              "Tracking run with wandb version 0.18.5"
            ]
          },
          "metadata": {}
        },
        {
          "output_type": "display_data",
          "data": {
            "text/plain": [
              "<IPython.core.display.HTML object>"
            ],
            "text/html": [
              "Run data is saved locally in <code>/content/wandb/run-20241106_054627-ajjym7g4</code>"
            ]
          },
          "metadata": {}
        },
        {
          "output_type": "display_data",
          "data": {
            "text/plain": [
              "<IPython.core.display.HTML object>"
            ],
            "text/html": [
              "Syncing run <strong><a href='https://wandb.ai/elvin-torres-universidad-aut-noma-de-occidente/Proyecto%20Cancer%20de%20Piel/runs/ajjym7g4' target=\"_blank\">experiment_02</a></strong> to <a href='https://wandb.ai/elvin-torres-universidad-aut-noma-de-occidente/Proyecto%20Cancer%20de%20Piel' target=\"_blank\">Weights & Biases</a> (<a href='https://wandb.me/run' target=\"_blank\">docs</a>)<br/>"
            ]
          },
          "metadata": {}
        },
        {
          "output_type": "display_data",
          "data": {
            "text/plain": [
              "<IPython.core.display.HTML object>"
            ],
            "text/html": [
              " View project at <a href='https://wandb.ai/elvin-torres-universidad-aut-noma-de-occidente/Proyecto%20Cancer%20de%20Piel' target=\"_blank\">https://wandb.ai/elvin-torres-universidad-aut-noma-de-occidente/Proyecto%20Cancer%20de%20Piel</a>"
            ]
          },
          "metadata": {}
        },
        {
          "output_type": "display_data",
          "data": {
            "text/plain": [
              "<IPython.core.display.HTML object>"
            ],
            "text/html": [
              " View run at <a href='https://wandb.ai/elvin-torres-universidad-aut-noma-de-occidente/Proyecto%20Cancer%20de%20Piel/runs/ajjym7g4' target=\"_blank\">https://wandb.ai/elvin-torres-universidad-aut-noma-de-occidente/Proyecto%20Cancer%20de%20Piel/runs/ajjym7g4</a>"
            ]
          },
          "metadata": {}
        }
      ]
    },
    {
      "cell_type": "markdown",
      "source": [
        "**EXPERIMENTO 3**"
      ],
      "metadata": {
        "id": "g14WVIbsqWpk"
      }
    },
    {
      "cell_type": "code",
      "source": [
        "#codigo para utilizar wandb\n",
        "#dentro de config definiremos datos basicos del proyecto icnluyendo numero de epocas para el entrenamietno del modelo\n",
        "config={\n",
        "\"architecture\": \"CNN\",\n",
        "\"dataset\": \"imagenes cancer de piel\",\n",
        "\"epochs\": 20,\n",
        "}\n",
        "\n",
        "wandb.init(\n",
        "      # en el .init estableceremos nombre del proyecto, nombre del experimiento lo que nos servira para luego identificar los experimentos\n",
        "      project=\"Proyecto Cancer de Piel\",\n",
        "      name=f\"experiment_03\",\n",
        "      config=config\n",
        ")\n",
        "\n",
        "#definicion de modelo CNN\n",
        "model = Sequential([\n",
        "    Conv2D(32, (3, 3), activation='relu', input_shape=(100, 100, 3)),\n",
        "    MaxPooling2D((2, 2)),\n",
        "    Flatten(),\n",
        "    Dense(64, activation='relu'),\n",
        "    Dense(1, activation='sigmoid')  # Para clasificación binaria\n",
        "])\n",
        "\n",
        "# Compilar el modelo con función de pérdida y optimizador\n",
        "model.compile(optimizer='adam',\n",
        "              loss='binary_crossentropy',\n",
        "              metrics=['accuracy'])\n"
      ],
      "metadata": {
        "colab": {
          "base_uri": "https://localhost:8080/",
          "height": 434
        },
        "id": "Nnpdvp2gqV4e",
        "outputId": "a9a07b14-bc0d-4846-f61e-74348df89db8"
      },
      "execution_count": null,
      "outputs": [
        {
          "output_type": "display_data",
          "data": {
            "text/plain": [
              "<IPython.core.display.HTML object>"
            ],
            "text/html": [
              "Finishing last run (ID:ajjym7g4) before initializing another..."
            ]
          },
          "metadata": {}
        },
        {
          "output_type": "display_data",
          "data": {
            "text/plain": [
              "<IPython.core.display.HTML object>"
            ],
            "text/html": [
              "<style>\n",
              "    table.wandb td:nth-child(1) { padding: 0 10px; text-align: left ; width: auto;} td:nth-child(2) {text-align: left ; width: 100%}\n",
              "    .wandb-row { display: flex; flex-direction: row; flex-wrap: wrap; justify-content: flex-start; width: 100% }\n",
              "    .wandb-col { display: flex; flex-direction: column; flex-basis: 100%; flex: 1; padding: 10px; }\n",
              "    </style>\n",
              "<div class=\"wandb-row\"><div class=\"wandb-col\"><h3>Run history:</h3><br/><table class=\"wandb\"><tr><td>epoch/accuracy</td><td>▁▄▄▅▅▆▆▆▆▆▇▇███</td></tr><tr><td>epoch/epoch</td><td>▁▁▂▃▃▃▄▅▅▅▆▇▇▇█</td></tr><tr><td>epoch/learning_rate</td><td>▁▁▁▁▁▁▁▁▁▁▁▁▁▁▁</td></tr><tr><td>epoch/loss</td><td>█▃▃▂▂▂▂▂▂▂▂▁▁▁▁</td></tr><tr><td>epoch/val_accuracy</td><td>▁▂▆▆▅▆▇▆█▆███▇▅</td></tr><tr><td>epoch/val_loss</td><td>█▇▄▃▆▃▃▂▂▄▁▁▂▃█</td></tr></table><br/></div><div class=\"wandb-col\"><h3>Run summary:</h3><br/><table class=\"wandb\"><tr><td>epoch/accuracy</td><td>0.85149</td></tr><tr><td>epoch/epoch</td><td>14</td></tr><tr><td>epoch/learning_rate</td><td>0.001</td></tr><tr><td>epoch/loss</td><td>0.30381</td></tr><tr><td>epoch/val_accuracy</td><td>0.7987</td></tr><tr><td>epoch/val_loss</td><td>0.46361</td></tr></table><br/></div></div>"
            ]
          },
          "metadata": {}
        },
        {
          "output_type": "display_data",
          "data": {
            "text/plain": [
              "<IPython.core.display.HTML object>"
            ],
            "text/html": [
              " View run <strong style=\"color:#cdcd00\">experiment_02</strong> at: <a href='https://wandb.ai/elvin-torres-universidad-aut-noma-de-occidente/Proyecto%20Cancer%20de%20Piel/runs/ajjym7g4' target=\"_blank\">https://wandb.ai/elvin-torres-universidad-aut-noma-de-occidente/Proyecto%20Cancer%20de%20Piel/runs/ajjym7g4</a><br/> View project at: <a href='https://wandb.ai/elvin-torres-universidad-aut-noma-de-occidente/Proyecto%20Cancer%20de%20Piel' target=\"_blank\">https://wandb.ai/elvin-torres-universidad-aut-noma-de-occidente/Proyecto%20Cancer%20de%20Piel</a><br/>Synced 5 W&B file(s), 0 media file(s), 2 artifact file(s) and 0 other file(s)"
            ]
          },
          "metadata": {}
        },
        {
          "output_type": "display_data",
          "data": {
            "text/plain": [
              "<IPython.core.display.HTML object>"
            ],
            "text/html": [
              "Find logs at: <code>./wandb/run-20241106_054627-ajjym7g4/logs</code>"
            ]
          },
          "metadata": {}
        },
        {
          "output_type": "display_data",
          "data": {
            "text/plain": [
              "<IPython.core.display.HTML object>"
            ],
            "text/html": [
              "Successfully finished last run (ID:ajjym7g4). Initializing new run:<br/>"
            ]
          },
          "metadata": {}
        },
        {
          "output_type": "display_data",
          "data": {
            "text/plain": [
              "<IPython.core.display.HTML object>"
            ],
            "text/html": [
              "Tracking run with wandb version 0.18.5"
            ]
          },
          "metadata": {}
        },
        {
          "output_type": "display_data",
          "data": {
            "text/plain": [
              "<IPython.core.display.HTML object>"
            ],
            "text/html": [
              "Run data is saved locally in <code>/content/wandb/run-20241106_055709-datfxx20</code>"
            ]
          },
          "metadata": {}
        },
        {
          "output_type": "display_data",
          "data": {
            "text/plain": [
              "<IPython.core.display.HTML object>"
            ],
            "text/html": [
              "Syncing run <strong><a href='https://wandb.ai/elvin-torres-universidad-aut-noma-de-occidente/Proyecto%20Cancer%20de%20Piel/runs/datfxx20' target=\"_blank\">experiment_03</a></strong> to <a href='https://wandb.ai/elvin-torres-universidad-aut-noma-de-occidente/Proyecto%20Cancer%20de%20Piel' target=\"_blank\">Weights & Biases</a> (<a href='https://wandb.me/run' target=\"_blank\">docs</a>)<br/>"
            ]
          },
          "metadata": {}
        },
        {
          "output_type": "display_data",
          "data": {
            "text/plain": [
              "<IPython.core.display.HTML object>"
            ],
            "text/html": [
              " View project at <a href='https://wandb.ai/elvin-torres-universidad-aut-noma-de-occidente/Proyecto%20Cancer%20de%20Piel' target=\"_blank\">https://wandb.ai/elvin-torres-universidad-aut-noma-de-occidente/Proyecto%20Cancer%20de%20Piel</a>"
            ]
          },
          "metadata": {}
        },
        {
          "output_type": "display_data",
          "data": {
            "text/plain": [
              "<IPython.core.display.HTML object>"
            ],
            "text/html": [
              " View run at <a href='https://wandb.ai/elvin-torres-universidad-aut-noma-de-occidente/Proyecto%20Cancer%20de%20Piel/runs/datfxx20' target=\"_blank\">https://wandb.ai/elvin-torres-universidad-aut-noma-de-occidente/Proyecto%20Cancer%20de%20Piel/runs/datfxx20</a>"
            ]
          },
          "metadata": {}
        }
      ]
    },
    {
      "cell_type": "markdown",
      "source": [
        "### ENTRENAMIENTO DEL MODELO"
      ],
      "metadata": {
        "id": "9qrnilJE69KO"
      }
    },
    {
      "cell_type": "code",
      "source": [
        "#entrenamiento del modelo y  registro de la información de la ejecución con MLflow, herramienta de seguimiento de experimentos\n",
        "if mlflow.active_run():\n",
        "    mlflow.end_run()\n",
        "with mlflow.start_run() as run:\n",
        "    history = model.fit(X_train, y_train,\n",
        "                        epochs=config[\"epochs\"],\n",
        "                        validation_split=0.2,\n",
        "                        batch_size=32,\n",
        "                        callbacks=[WandbMetricsLogger()]\n",
        "    )\n",
        "\n",
        "#PROCESO PARA REGISTRAR DATA SET EN MLFLOW\n",
        "# Crea una carpeta temporal para el dataset\n",
        "temp_dir = tempfile.mkdtemp()\n",
        "\n",
        "# Guarda los datos en la carpeta temporal para este caso utilizaremos numpy\n",
        "np.save(os.path.join(temp_dir, \"X_train.npy\"), X_train)\n",
        "np.save(os.path.join(temp_dir, \"y_train.npy\"), y_train)\n",
        "np.save(os.path.join(temp_dir, \"X_test.npy\"), X_test)\n",
        "np.save(os.path.join(temp_dir, \"y_test.npy\"), y_test)\n",
        "\n",
        "# Registra la carpeta temporal como un artefacto\n",
        "mlflow.log_artifacts(temp_dir, artifact_path=\"dataset\")\n",
        "#--------------\n",
        "\n",
        "# Evaluar precisión en conjunto de prueba\n",
        "test_loss, test_accuracy = model.evaluate(X_test, y_test)\n",
        "\n",
        "#validacion registro metricas plataformas wandb y mlflow\n",
        "mlflow.log_metric(\"accuracy\", test_accuracy)\n",
        "wandb.log({\"accuracy\": test_accuracy})\n",
        "\n",
        "# Guardar el modelo en un archivo .h5 con nombre unico\n",
        "model.save(f\"my_model_{wandb.run.id}.h5\")\n",
        "\n",
        "# Registrar el modelo como un artefacto en wandb\n",
        "artifact = wandb.Artifact(f\"my_model_{wandb.run.id}\", type=\"model\")\n",
        "artifact.add_file(f\"my_model_{wandb.run.id}.h5\")\n",
        "wandb.log_artifact(artifact)\n",
        "\n",
        "print(f'\\nTest accuracy: {test_accuracy:.4f}')\n",
        "\n"
      ],
      "metadata": {
        "colab": {
          "base_uri": "https://localhost:8080/",
          "height": 540
        },
        "id": "UDJ_RqyXf1Xu",
        "outputId": "85a10e17-1a68-4e8e-c56c-cfd413ec8a00"
      },
      "execution_count": null,
      "outputs": [
        {
          "output_type": "display_data",
          "data": {
            "text/plain": [],
            "text/html": [
              "<pre style=\"white-space:pre;overflow-x:auto;line-height:normal;font-family:Menlo,'DejaVu Sans Mono',consolas,'Courier New',monospace\"></pre>\n"
            ]
          },
          "metadata": {}
        },
        {
          "output_type": "stream",
          "name": "stdout",
          "text": [
            "Epoch 1/10\n",
            "\u001b[1m58/58\u001b[0m \u001b[32m━━━━━━━━━━━━━━━━━━━━\u001b[0m\u001b[37m\u001b[0m \u001b[1m0s\u001b[0m 25ms/step - accuracy: 0.6318 - loss: 1.3809"
          ]
        },
        {
          "output_type": "stream",
          "name": "stderr",
          "text": [
            "WARNING:absl:You are saving your model as an HDF5 file via `model.save()` or `keras.saving.save_model(model)`. This file format is considered legacy. We recommend using instead the native Keras format, e.g. `model.save('my_model.keras')` or `keras.saving.save_model(model, 'my_model.keras')`. \n"
          ]
        },
        {
          "output_type": "stream",
          "name": "stdout",
          "text": [
            "\b\b\b\b\b\b\b\b\b\b\b\b\b\b\b\b\b\b\b\b\b\b\b\b\b\b\b\b\b\b\b\b\b\b\b\b\b\b\b\b\b\b\b\b\b\b\b\b\b\b\b\b\b\b\b\b\b\b\b\b\b\b\b\b\b\b\b\b\b\b\b\b\b\r\u001b[1m58/58\u001b[0m \u001b[32m━━━━━━━━━━━━━━━━━━━━\u001b[0m\u001b[37m\u001b[0m \u001b[1m8s\u001b[0m 53ms/step - accuracy: 0.6330 - loss: 1.3706 - val_accuracy: 0.8009 - val_loss: 0.3988\n",
            "Epoch 2/10\n",
            "\u001b[1m58/58\u001b[0m \u001b[32m━━━━━━━━━━━━━━━━━━━━\u001b[0m\u001b[37m\u001b[0m \u001b[1m5s\u001b[0m 10ms/step - accuracy: 0.7594 - loss: 0.4548 - val_accuracy: 0.7944 - val_loss: 0.4003\n",
            "Epoch 3/10\n",
            "\u001b[1m58/58\u001b[0m \u001b[32m━━━━━━━━━━━━━━━━━━━━\u001b[0m\u001b[37m\u001b[0m \u001b[1m0s\u001b[0m 8ms/step - accuracy: 0.7720 - loss: 0.4386"
          ]
        },
        {
          "output_type": "stream",
          "name": "stderr",
          "text": [
            "WARNING:absl:You are saving your model as an HDF5 file via `model.save()` or `keras.saving.save_model(model)`. This file format is considered legacy. We recommend using instead the native Keras format, e.g. `model.save('my_model.keras')` or `keras.saving.save_model(model, 'my_model.keras')`. \n"
          ]
        },
        {
          "output_type": "stream",
          "name": "stdout",
          "text": [
            "\b\b\b\b\b\b\b\b\b\b\b\b\b\b\b\b\b\b\b\b\b\b\b\b\b\b\b\b\b\b\b\b\b\b\b\b\b\b\b\b\b\b\b\b\b\b\b\b\b\b\b\b\b\b\b\b\b\b\b\b\b\b\b\b\b\b\b\b\b\b\b\b\r\u001b[1m58/58\u001b[0m \u001b[32m━━━━━━━━━━━━━━━━━━━━\u001b[0m\u001b[37m\u001b[0m \u001b[1m1s\u001b[0m 19ms/step - accuracy: 0.7721 - loss: 0.4384 - val_accuracy: 0.8139 - val_loss: 0.3921\n",
            "Epoch 4/10\n",
            "\u001b[1m57/58\u001b[0m \u001b[32m━━━━━━━━━━━━━━━━━━━\u001b[0m\u001b[37m━\u001b[0m \u001b[1m0s\u001b[0m 10ms/step - accuracy: 0.8002 - loss: 0.3944"
          ]
        },
        {
          "output_type": "stream",
          "name": "stderr",
          "text": [
            "WARNING:absl:You are saving your model as an HDF5 file via `model.save()` or `keras.saving.save_model(model)`. This file format is considered legacy. We recommend using instead the native Keras format, e.g. `model.save('my_model.keras')` or `keras.saving.save_model(model, 'my_model.keras')`. \n"
          ]
        },
        {
          "output_type": "stream",
          "name": "stdout",
          "text": [
            "\b\b\b\b\b\b\b\b\b\b\b\b\b\b\b\b\b\b\b\b\b\b\b\b\b\b\b\b\b\b\b\b\b\b\b\b\b\b\b\b\b\b\b\b\b\b\b\b\b\b\b\b\b\b\b\b\b\b\b\b\b\b\b\b\b\b\b\b\b\b\b\b\b\r\u001b[1m58/58\u001b[0m \u001b[32m━━━━━━━━━━━━━━━━━━━━\u001b[0m\u001b[37m\u001b[0m \u001b[1m1s\u001b[0m 18ms/step - accuracy: 0.8006 - loss: 0.3935 - val_accuracy: 0.8355 - val_loss: 0.3594\n",
            "Epoch 5/10\n",
            "\u001b[1m58/58\u001b[0m \u001b[32m━━━━━━━━━━━━━━━━━━━━\u001b[0m\u001b[37m\u001b[0m \u001b[1m1s\u001b[0m 12ms/step - accuracy: 0.8295 - loss: 0.3505 - val_accuracy: 0.8355 - val_loss: 0.3720\n",
            "Epoch 6/10\n",
            "\u001b[1m58/58\u001b[0m \u001b[32m━━━━━━━━━━━━━━━━━━━━\u001b[0m\u001b[37m\u001b[0m \u001b[1m1s\u001b[0m 13ms/step - accuracy: 0.8341 - loss: 0.3420 - val_accuracy: 0.8333 - val_loss: 0.3601\n",
            "Epoch 7/10\n",
            "\u001b[1m58/58\u001b[0m \u001b[32m━━━━━━━━━━━━━━━━━━━━\u001b[0m\u001b[37m\u001b[0m \u001b[1m1s\u001b[0m 11ms/step - accuracy: 0.8636 - loss: 0.3158 - val_accuracy: 0.8268 - val_loss: 0.3602\n",
            "Epoch 8/10\n",
            "\u001b[1m58/58\u001b[0m \u001b[32m━━━━━━━━━━━━━━━━━━━━\u001b[0m\u001b[37m\u001b[0m \u001b[1m1s\u001b[0m 13ms/step - accuracy: 0.8535 - loss: 0.3038 - val_accuracy: 0.8290 - val_loss: 0.3616\n",
            "Epoch 9/10\n",
            "\u001b[1m55/58\u001b[0m \u001b[32m━━━━━━━━━━━━━━━━━━\u001b[0m\u001b[37m━━\u001b[0m \u001b[1m0s\u001b[0m 8ms/step - accuracy: 0.8713 - loss: 0.2739"
          ]
        },
        {
          "output_type": "stream",
          "name": "stderr",
          "text": [
            "WARNING:absl:You are saving your model as an HDF5 file via `model.save()` or `keras.saving.save_model(model)`. This file format is considered legacy. We recommend using instead the native Keras format, e.g. `model.save('my_model.keras')` or `keras.saving.save_model(model, 'my_model.keras')`. \n"
          ]
        },
        {
          "output_type": "stream",
          "name": "stdout",
          "text": [
            "\b\b\b\b\b\b\b\b\b\b\b\b\b\b\b\b\b\b\b\b\b\b\b\b\b\b\b\b\b\b\b\b\b\b\b\b\b\b\b\b\b\b\b\b\b\b\b\b\b\b\b\b\b\b\b\b\b\b\b\b\b\b\b\b\b\b\b\b\b\b\b\b\r\u001b[1m58/58\u001b[0m \u001b[32m━━━━━━━━━━━━━━━━━━━━\u001b[0m\u001b[37m\u001b[0m \u001b[1m1s\u001b[0m 13ms/step - accuracy: 0.8711 - loss: 0.2741 - val_accuracy: 0.8312 - val_loss: 0.3364\n",
            "Epoch 10/10\n",
            "\u001b[1m58/58\u001b[0m \u001b[32m━━━━━━━━━━━━━━━━━━━━\u001b[0m\u001b[37m\u001b[0m \u001b[1m1s\u001b[0m 9ms/step - accuracy: 0.8668 - loss: 0.2834 - val_accuracy: 0.8333 - val_loss: 0.3441\n",
            "\u001b[1m1/1\u001b[0m \u001b[32m━━━━━━━━━━━━━━━━━━━━\u001b[0m\u001b[37m\u001b[0m \u001b[1m0s\u001b[0m 407ms/step\n",
            "\u001b[1m28/28\u001b[0m \u001b[32m━━━━━━━━━━━━━━━━━━━━\u001b[0m\u001b[37m\u001b[0m \u001b[1m1s\u001b[0m 25ms/step - accuracy: 0.8190 - loss: 0.3695\n"
          ]
        },
        {
          "output_type": "stream",
          "name": "stderr",
          "text": [
            "WARNING:absl:You are saving your model as an HDF5 file via `model.save()` or `keras.saving.save_model(model)`. This file format is considered legacy. We recommend using instead the native Keras format, e.g. `model.save('my_model.keras')` or `keras.saving.save_model(model, 'my_model.keras')`. \n"
          ]
        },
        {
          "output_type": "stream",
          "name": "stdout",
          "text": [
            "\n",
            "Test accuracy: 0.8204\n"
          ]
        }
      ]
    },
    {
      "cell_type": "markdown",
      "source": [
        "### Implementación NGROK para exponer un servidor local para MLFLOW"
      ],
      "metadata": {
        "id": "DDnTegJrBbsJ"
      }
    },
    {
      "cell_type": "code",
      "source": [
        "#Este comando usa ngrok, una herramienta que permite exponer localmente un servidor a través de un túnel seguro\n",
        "!ngrok config add-authtoken 2oE5CepTnPeNj0Y1c5fJe6hggaZ_4GHmqaRcCaLLBUbFpUfLd"
      ],
      "metadata": {
        "colab": {
          "base_uri": "https://localhost:8080/"
        },
        "id": "2uiyuebRjrqq",
        "outputId": "75ab3ee1-b008-4ec0-a723-025d5e0693a4"
      },
      "execution_count": null,
      "outputs": [
        {
          "output_type": "stream",
          "name": "stdout",
          "text": [
            "Authtoken saved to configuration file: /root/.config/ngrok/ngrok.yml\n"
          ]
        }
      ]
    },
    {
      "cell_type": "code",
      "source": [
        "import mlflow\n",
        "from pyngrok import ngrok\n",
        "\n",
        "\n",
        "# Iniciar el túnel de ngrok para exponer el puerto 5000\n",
        "ngrok_tunnel = ngrok.connect(5000)\n",
        "\n",
        "\n",
        "mlflow_url = ngrok_tunnel.public_url\n",
        "print(f\"MLflow Tracking UI: {mlflow_url}\")\n",
        "\n",
        "\n",
        "# Iniciar el servidor de MLflow en el entorno de Colab\n",
        "get_ipython().system_raw(\"mlflow ui --host 0.0.0.0 --port 5000 &\")"
      ],
      "metadata": {
        "colab": {
          "base_uri": "https://localhost:8080/"
        },
        "id": "4dm9MAYIjuXz",
        "outputId": "3f20e070-69f8-4b86-fb4a-1f413720b3fb"
      },
      "execution_count": null,
      "outputs": [
        {
          "output_type": "stream",
          "name": "stdout",
          "text": [
            "MLflow Tracking UI: https://69a5-35-231-96-38.ngrok-free.app\n"
          ]
        }
      ]
    }
  ]
}